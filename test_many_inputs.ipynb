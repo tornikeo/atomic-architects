{
 "cells": [
  {
   "cell_type": "code",
   "execution_count": 4,
   "id": "6c35da53-d685-4796-b767-dfe48a777e53",
   "metadata": {},
   "outputs": [],
   "source": [
    "from pathlib import Path\n",
    "import os,sys\n",
    "import subprocess\n",
    "from tqdm import tqdm"
   ]
  },
  {
   "cell_type": "code",
   "execution_count": 5,
   "id": "768cf464-0d8c-4672-b620-428e94955cbb",
   "metadata": {
    "tags": []
   },
   "outputs": [
    {
     "name": "stderr",
     "output_type": "stream",
     "text": [
      "  0%|          | 0/17 [00:00<?, ?it/s]"
     ]
    },
    {
     "name": "stdout",
     "output_type": "stream",
     "text": [
      "EXECUTING >> python main.py --input_video store/all_videos/000000.mp4 --output_dir store/results/000000\n"
     ]
    },
    {
     "name": "stderr",
     "output_type": "stream",
     "text": [
      "  6%|▌         | 1/17 [02:34<41:13, 154.57s/it]"
     ]
    },
    {
     "name": "stdout",
     "output_type": "stream",
     "text": [
      "[NbConvertApp] Converting notebook main.ipynb to html\n",
      "ffmpeg version 4.3 Copyright (c) 2000-2020 the FFmpeg developers\n",
      "  built with gcc 7.3.0 (crosstool-NG 1.23.0.449-a04d0)\n",
      "  configuration: --prefix=/home/tornikeo/miniconda3/envs/torch --cc=/opt/conda/conda-bld/ffmpeg_1597178665428/_build_env/bin/x86_64-conda_cos6-linux-gnu-cc --disable-doc --disable-openssl --enable-avresample --enable-gnutls --enable-hardcoded-tables --enable-libfreetype --enable-libopenh264 --enable-pic --enable-pthreads --enable-shared --disable-static --enable-version3 --enable-zlib --enable-libmp3lame\n",
      "  libavutil      56. 51.100 / 56. 51.100\n",
      "  libavcodec     58. 91.100 / 58. 91.100\n",
      "  libavformat    58. 45.100 / 58. 45.100\n",
      "  libavdevice    58. 10.100 / 58. 10.100\n",
      "  libavfilter     7. 85.100 /  7. 85.100\n",
      "  libavresample   4.  0.  0 /  4.  0.  0\n",
      "  libswscale      5.  7.100 /  5.  7.100\n",
      "  libswresample   3.  7.100 /  3.  7.100\n",
      "Input #0, image2, from 'store/results/000000/tmp_frames/*.jpg':\n",
      "  Duration: 00:00:22.60, start: 0.000000, bitrate: N/A\n",
      "    Stream #0:0: Video: mjpeg (Baseline), yuvj420p(pc, bt470bg/unknown/unknown), 1280x1024 [SAR 1:1 DAR 5:4], 20 fps, 20 tbr, 20 tbn, 20 tbc\n",
      "Please use -b:a or -b:v, -b is ambiguous\n",
      "Stream mapping:\n",
      "  Stream #0:0 -> #0:0 (mjpeg (native) -> mpeg4 (native))\n",
      "Press [q] to stop, [?] for help\n",
      "[swscaler @ 0x55c6710a6000] deprecated pixel format used, make sure you did set range correctly\n",
      "Output #0, mp4, to 'store/results/000000/visuals.mp4':\n",
      "  Metadata:\n",
      "    encoder         : Lavf58.45.100\n",
      "    Stream #0:0: Video: mpeg4 (mp4v / 0x7634706D), yuv420p, 1280x1024 [SAR 1:1 DAR 5:4], q=2-31, 5000 kb/s, 20 fps, 10240 tbn, 20 tbc\n",
      "    Metadata:\n",
      "      encoder         : Lavc58.91.100 mpeg4\n",
      "    Side data:\n",
      "      cpb: bitrate max/min/avg: 0/0/5000000 buffer size: 0 vbv_delay: N/A\n",
      "frame=  452 fps=103 q=2.3 Lsize=   13834kB time=00:00:22.55 bitrate=5025.5kbits/s speed=5.15x    \n",
      "video:13831kB audio:0kB subtitle:0kB other streams:0kB global headers:0kB muxing overhead: 0.021218%\n",
      "[NbConvertApp] Writing 2648674 bytes to result.html\n",
      "\n",
      "\n",
      "EXECUTING >> python main.py --input_video store/all_videos/000001.mp4 --output_dir store/results/000001\n"
     ]
    },
    {
     "name": "stderr",
     "output_type": "stream",
     "text": [
      " 12%|█▏        | 2/17 [03:25<23:22, 93.52s/it] "
     ]
    },
    {
     "name": "stdout",
     "output_type": "stream",
     "text": [
      "[NbConvertApp] Converting notebook main.ipynb to html\n",
      "ffmpeg version 4.3 Copyright (c) 2000-2020 the FFmpeg developers\n",
      "  built with gcc 7.3.0 (crosstool-NG 1.23.0.449-a04d0)\n",
      "  configuration: --prefix=/home/tornikeo/miniconda3/envs/torch --cc=/opt/conda/conda-bld/ffmpeg_1597178665428/_build_env/bin/x86_64-conda_cos6-linux-gnu-cc --disable-doc --disable-openssl --enable-avresample --enable-gnutls --enable-hardcoded-tables --enable-libfreetype --enable-libopenh264 --enable-pic --enable-pthreads --enable-shared --disable-static --enable-version3 --enable-zlib --enable-libmp3lame\n",
      "  libavutil      56. 51.100 / 56. 51.100\n",
      "  libavcodec     58. 91.100 / 58. 91.100\n",
      "  libavformat    58. 45.100 / 58. 45.100\n",
      "  libavdevice    58. 10.100 / 58. 10.100\n",
      "  libavfilter     7. 85.100 /  7. 85.100\n",
      "  libavresample   4.  0.  0 /  4.  0.  0\n",
      "  libswscale      5.  7.100 /  5.  7.100\n",
      "  libswresample   3.  7.100 /  3.  7.100\n",
      "Input #0, image2, from 'store/results/000001/tmp_frames/*.jpg':\n",
      "  Duration: 00:00:07.20, start: 0.000000, bitrate: N/A\n",
      "    Stream #0:0: Video: mjpeg (Baseline), yuvj420p(pc, bt470bg/unknown/unknown), 1280x1024 [SAR 1:1 DAR 5:4], 20 fps, 20 tbr, 20 tbn, 20 tbc\n",
      "Please use -b:a or -b:v, -b is ambiguous\n",
      "Stream mapping:\n",
      "  Stream #0:0 -> #0:0 (mjpeg (native) -> mpeg4 (native))\n",
      "Press [q] to stop, [?] for help\n",
      "[swscaler @ 0x55dc203aa980] deprecated pixel format used, make sure you did set range correctly\n",
      "Output #0, mp4, to 'store/results/000001/visuals.mp4':\n",
      "  Metadata:\n",
      "    encoder         : Lavf58.45.100\n",
      "    Stream #0:0: Video: mpeg4 (mp4v / 0x7634706D), yuv420p, 1280x1024 [SAR 1:1 DAR 5:4], q=2-31, 5000 kb/s, 20 fps, 10240 tbn, 20 tbc\n",
      "    Metadata:\n",
      "      encoder         : Lavc58.91.100 mpeg4\n",
      "    Side data:\n",
      "      cpb: bitrate max/min/avg: 0/0/5000000 buffer size: 0 vbv_delay: N/A\n",
      "frame=  144 fps=105 q=2.6 Lsize=    4495kB time=00:00:07.15 bitrate=5150.1kbits/s speed=5.19x    \n",
      "video:4494kB audio:0kB subtitle:0kB other streams:0kB global headers:0kB muxing overhead: 0.033751%\n",
      "[NbConvertApp] Writing 2044194 bytes to result.html\n",
      "\n",
      "\n",
      "EXECUTING >> python main.py --input_video store/all_videos/000003.mp4 --output_dir store/results/000003\n"
     ]
    },
    {
     "name": "stderr",
     "output_type": "stream",
     "text": [
      " 24%|██▎       | 4/17 [04:34<12:13, 56.44s/it]"
     ]
    },
    {
     "name": "stdout",
     "output_type": "stream",
     "text": [
      "[NbConvertApp] Converting notebook main.ipynb to html\n",
      "ffmpeg version 4.3 Copyright (c) 2000-2020 the FFmpeg developers\n",
      "  built with gcc 7.3.0 (crosstool-NG 1.23.0.449-a04d0)\n",
      "  configuration: --prefix=/home/tornikeo/miniconda3/envs/torch --cc=/opt/conda/conda-bld/ffmpeg_1597178665428/_build_env/bin/x86_64-conda_cos6-linux-gnu-cc --disable-doc --disable-openssl --enable-avresample --enable-gnutls --enable-hardcoded-tables --enable-libfreetype --enable-libopenh264 --enable-pic --enable-pthreads --enable-shared --disable-static --enable-version3 --enable-zlib --enable-libmp3lame\n",
      "  libavutil      56. 51.100 / 56. 51.100\n",
      "  libavcodec     58. 91.100 / 58. 91.100\n",
      "  libavformat    58. 45.100 / 58. 45.100\n",
      "  libavdevice    58. 10.100 / 58. 10.100\n",
      "  libavfilter     7. 85.100 /  7. 85.100\n",
      "  libavresample   4.  0.  0 /  4.  0.  0\n",
      "  libswscale      5.  7.100 /  5.  7.100\n",
      "  libswresample   3.  7.100 /  3.  7.100\n",
      "Input #0, image2, from 'store/results/000003/tmp_frames/*.jpg':\n",
      "  Duration: 00:00:11.25, start: 0.000000, bitrate: N/A\n",
      "    Stream #0:0: Video: mjpeg (Baseline), yuvj420p(pc, bt470bg/unknown/unknown), 1280x1024 [SAR 1:1 DAR 5:4], 20 fps, 20 tbr, 20 tbn, 20 tbc\n",
      "Please use -b:a or -b:v, -b is ambiguous\n",
      "Stream mapping:\n",
      "  Stream #0:0 -> #0:0 (mjpeg (native) -> mpeg4 (native))\n",
      "Press [q] to stop, [?] for help\n",
      "[swscaler @ 0x564e4d99af00] deprecated pixel format used, make sure you did set range correctly\n",
      "Output #0, mp4, to 'store/results/000003/visuals.mp4':\n",
      "  Metadata:\n",
      "    encoder         : Lavf58.45.100\n",
      "    Stream #0:0: Video: mpeg4 (mp4v / 0x7634706D), yuv420p, 1280x1024 [SAR 1:1 DAR 5:4], q=2-31, 5000 kb/s, 20 fps, 10240 tbn, 20 tbc\n",
      "    Metadata:\n",
      "      encoder         : Lavc58.91.100 mpeg4\n",
      "    Side data:\n",
      "      cpb: bitrate max/min/avg: 0/0/5000000 buffer size: 0 vbv_delay: N/A\n",
      "frame=  225 fps= 87 q=4.2 Lsize=    7001kB time=00:00:11.20 bitrate=5120.9kbits/s speed=4.32x    \n",
      "video:6999kB audio:0kB subtitle:0kB other streams:0kB global headers:0kB muxing overhead: 0.026969%\n",
      "[NbConvertApp] Writing 2172196 bytes to result.html\n",
      "\n",
      "\n",
      "EXECUTING >> python main.py --input_video store/all_videos/000004.mp4 --output_dir store/results/000004\n"
     ]
    },
    {
     "name": "stderr",
     "output_type": "stream",
     "text": [
      " 29%|██▉       | 5/17 [06:40<15:36, 78.05s/it]"
     ]
    },
    {
     "name": "stdout",
     "output_type": "stream",
     "text": [
      "[NbConvertApp] Converting notebook main.ipynb to html\n",
      "ffmpeg version 4.3 Copyright (c) 2000-2020 the FFmpeg developers\n",
      "  built with gcc 7.3.0 (crosstool-NG 1.23.0.449-a04d0)\n",
      "  configuration: --prefix=/home/tornikeo/miniconda3/envs/torch --cc=/opt/conda/conda-bld/ffmpeg_1597178665428/_build_env/bin/x86_64-conda_cos6-linux-gnu-cc --disable-doc --disable-openssl --enable-avresample --enable-gnutls --enable-hardcoded-tables --enable-libfreetype --enable-libopenh264 --enable-pic --enable-pthreads --enable-shared --disable-static --enable-version3 --enable-zlib --enable-libmp3lame\n",
      "  libavutil      56. 51.100 / 56. 51.100\n",
      "  libavcodec     58. 91.100 / 58. 91.100\n",
      "  libavformat    58. 45.100 / 58. 45.100\n",
      "  libavdevice    58. 10.100 / 58. 10.100\n",
      "  libavfilter     7. 85.100 /  7. 85.100\n",
      "  libavresample   4.  0.  0 /  4.  0.  0\n",
      "  libswscale      5.  7.100 /  5.  7.100\n",
      "  libswresample   3.  7.100 /  3.  7.100\n",
      "Input #0, image2, from 'store/results/000004/tmp_frames/*.jpg':\n",
      "  Duration: 00:00:13.80, start: 0.000000, bitrate: N/A\n",
      "    Stream #0:0: Video: mjpeg (Baseline), yuvj420p(pc, bt470bg/unknown/unknown), 1280x1024 [SAR 1:1 DAR 5:4], 20 fps, 20 tbr, 20 tbn, 20 tbc\n",
      "Please use -b:a or -b:v, -b is ambiguous\n",
      "Stream mapping:\n",
      "  Stream #0:0 -> #0:0 (mjpeg (native) -> mpeg4 (native))\n",
      "Press [q] to stop, [?] for help\n",
      "[swscaler @ 0x55b141c2d4c0] deprecated pixel format used, make sure you did set range correctly\n",
      "Output #0, mp4, to 'store/results/000004/visuals.mp4':\n",
      "  Metadata:\n",
      "    encoder         : Lavf58.45.100\n",
      "    Stream #0:0: Video: mpeg4 (mp4v / 0x7634706D), yuv420p, 1280x1024 [SAR 1:1 DAR 5:4], q=2-31, 5000 kb/s, 20 fps, 10240 tbn, 20 tbc\n",
      "    Metadata:\n",
      "      encoder         : Lavc58.91.100 mpeg4\n",
      "    Side data:\n",
      "      cpb: bitrate max/min/avg: 0/0/5000000 buffer size: 0 vbv_delay: N/A\n",
      "frame=  276 fps= 94 q=3.6 Lsize=    8476kB time=00:00:13.75 bitrate=5049.6kbits/s speed=4.67x    \n",
      "video:8473kB audio:0kB subtitle:0kB other streams:0kB global headers:0kB muxing overhead: 0.025182%\n",
      "[NbConvertApp] Writing 2650641 bytes to result.html\n",
      "\n",
      "\n",
      "EXECUTING >> python main.py --input_video store/all_videos/000005.mp4 --output_dir store/results/000005\n"
     ]
    },
    {
     "name": "stderr",
     "output_type": "stream",
     "text": [
      " 35%|███▌      | 6/17 [07:28<12:37, 68.82s/it]"
     ]
    },
    {
     "name": "stdout",
     "output_type": "stream",
     "text": [
      "[NbConvertApp] Converting notebook main.ipynb to html\n",
      "ffmpeg version 4.3 Copyright (c) 2000-2020 the FFmpeg developers\n",
      "  built with gcc 7.3.0 (crosstool-NG 1.23.0.449-a04d0)\n",
      "  configuration: --prefix=/home/tornikeo/miniconda3/envs/torch --cc=/opt/conda/conda-bld/ffmpeg_1597178665428/_build_env/bin/x86_64-conda_cos6-linux-gnu-cc --disable-doc --disable-openssl --enable-avresample --enable-gnutls --enable-hardcoded-tables --enable-libfreetype --enable-libopenh264 --enable-pic --enable-pthreads --enable-shared --disable-static --enable-version3 --enable-zlib --enable-libmp3lame\n",
      "  libavutil      56. 51.100 / 56. 51.100\n",
      "  libavcodec     58. 91.100 / 58. 91.100\n",
      "  libavformat    58. 45.100 / 58. 45.100\n",
      "  libavdevice    58. 10.100 / 58. 10.100\n",
      "  libavfilter     7. 85.100 /  7. 85.100\n",
      "  libavresample   4.  0.  0 /  4.  0.  0\n",
      "  libswscale      5.  7.100 /  5.  7.100\n",
      "  libswresample   3.  7.100 /  3.  7.100\n",
      "Input #0, image2, from 'store/results/000005/tmp_frames/*.jpg':\n",
      "  Duration: 00:00:08.25, start: 0.000000, bitrate: N/A\n",
      "    Stream #0:0: Video: mjpeg (Baseline), yuvj420p(pc, bt470bg/unknown/unknown), 1280x1024 [SAR 1:1 DAR 5:4], 20 fps, 20 tbr, 20 tbn, 20 tbc\n",
      "Please use -b:a or -b:v, -b is ambiguous\n",
      "Stream mapping:\n",
      "  Stream #0:0 -> #0:0 (mjpeg (native) -> mpeg4 (native))\n",
      "Press [q] to stop, [?] for help\n",
      "[swscaler @ 0x55f65f13fe00] deprecated pixel format used, make sure you did set range correctly\n",
      "Output #0, mp4, to 'store/results/000005/visuals.mp4':\n",
      "  Metadata:\n",
      "    encoder         : Lavf58.45.100\n",
      "    Stream #0:0: Video: mpeg4 (mp4v / 0x7634706D), yuv420p, 1280x1024 [SAR 1:1 DAR 5:4], q=2-31, 5000 kb/s, 20 fps, 10240 tbn, 20 tbc\n",
      "    Metadata:\n",
      "      encoder         : Lavc58.91.100 mpeg4\n",
      "    Side data:\n",
      "      cpb: bitrate max/min/avg: 0/0/5000000 buffer size: 0 vbv_delay: N/A\n",
      "frame=  165 fps= 91 q=2.4 Lsize=    5105kB time=00:00:08.20 bitrate=5100.4kbits/s speed=4.51x    \n",
      "video:5104kB audio:0kB subtitle:0kB other streams:0kB global headers:0kB muxing overhead: 0.031934%\n",
      "[NbConvertApp] Writing 2052470 bytes to result.html\n",
      "\n",
      "\n",
      "EXECUTING >> python main.py --input_video store/all_videos/000006.mp4 --output_dir store/results/000006\n"
     ]
    },
    {
     "name": "stderr",
     "output_type": "stream",
     "text": [
      " 41%|████      | 7/17 [11:56<21:34, 129.40s/it]"
     ]
    },
    {
     "name": "stdout",
     "output_type": "stream",
     "text": [
      "[NbConvertApp] Converting notebook main.ipynb to html\n",
      "ffmpeg version 4.3 Copyright (c) 2000-2020 the FFmpeg developers\n",
      "  built with gcc 7.3.0 (crosstool-NG 1.23.0.449-a04d0)\n",
      "  configuration: --prefix=/home/tornikeo/miniconda3/envs/torch --cc=/opt/conda/conda-bld/ffmpeg_1597178665428/_build_env/bin/x86_64-conda_cos6-linux-gnu-cc --disable-doc --disable-openssl --enable-avresample --enable-gnutls --enable-hardcoded-tables --enable-libfreetype --enable-libopenh264 --enable-pic --enable-pthreads --enable-shared --disable-static --enable-version3 --enable-zlib --enable-libmp3lame\n",
      "  libavutil      56. 51.100 / 56. 51.100\n",
      "  libavcodec     58. 91.100 / 58. 91.100\n",
      "  libavformat    58. 45.100 / 58. 45.100\n",
      "  libavdevice    58. 10.100 / 58. 10.100\n",
      "  libavfilter     7. 85.100 /  7. 85.100\n",
      "  libavresample   4.  0.  0 /  4.  0.  0\n",
      "  libswscale      5.  7.100 /  5.  7.100\n",
      "  libswresample   3.  7.100 /  3.  7.100\n",
      "Input #0, image2, from 'store/results/000006/tmp_frames/*.jpg':\n",
      "  Duration: 00:00:19.15, start: 0.000000, bitrate: N/A\n",
      "    Stream #0:0: Video: mjpeg (Baseline), yuvj420p(pc, bt470bg/unknown/unknown), 1280x1024 [SAR 1:1 DAR 5:4], 20 fps, 20 tbr, 20 tbn, 20 tbc\n",
      "Please use -b:a or -b:v, -b is ambiguous\n",
      "Stream mapping:\n",
      "  Stream #0:0 -> #0:0 (mjpeg (native) -> mpeg4 (native))\n",
      "Press [q] to stop, [?] for help\n",
      "[swscaler @ 0x55884c1dbd40] deprecated pixel format used, make sure you did set range correctly\n",
      "Output #0, mp4, to 'store/results/000006/visuals.mp4':\n",
      "  Metadata:\n",
      "    encoder         : Lavf58.45.100\n",
      "    Stream #0:0: Video: mpeg4 (mp4v / 0x7634706D), yuv420p, 1280x1024 [SAR 1:1 DAR 5:4], q=2-31, 5000 kb/s, 20 fps, 10240 tbn, 20 tbc\n",
      "    Metadata:\n",
      "      encoder         : Lavc58.91.100 mpeg4\n",
      "    Side data:\n",
      "      cpb: bitrate max/min/avg: 0/0/5000000 buffer size: 0 vbv_delay: N/A\n",
      "frame=  383 fps=108 q=3.9 Lsize=   11705kB time=00:00:19.10 bitrate=5020.3kbits/s speed=5.37x    \n",
      "video:11702kB audio:0kB subtitle:0kB other streams:0kB global headers:0kB muxing overhead: 0.022306%\n",
      "[NbConvertApp] Writing 2540650 bytes to result.html\n",
      "\n",
      "\n",
      "EXECUTING >> python main.py --input_video store/all_videos/000007.mp4 --output_dir store/results/000007\n"
     ]
    },
    {
     "name": "stderr",
     "output_type": "stream",
     "text": [
      " 47%|████▋     | 8/17 [13:16<17:11, 114.66s/it]"
     ]
    },
    {
     "name": "stdout",
     "output_type": "stream",
     "text": [
      "[NbConvertApp] Converting notebook main.ipynb to html\n",
      "ffmpeg version 4.3 Copyright (c) 2000-2020 the FFmpeg developers\n",
      "  built with gcc 7.3.0 (crosstool-NG 1.23.0.449-a04d0)\n",
      "  configuration: --prefix=/home/tornikeo/miniconda3/envs/torch --cc=/opt/conda/conda-bld/ffmpeg_1597178665428/_build_env/bin/x86_64-conda_cos6-linux-gnu-cc --disable-doc --disable-openssl --enable-avresample --enable-gnutls --enable-hardcoded-tables --enable-libfreetype --enable-libopenh264 --enable-pic --enable-pthreads --enable-shared --disable-static --enable-version3 --enable-zlib --enable-libmp3lame\n",
      "  libavutil      56. 51.100 / 56. 51.100\n",
      "  libavcodec     58. 91.100 / 58. 91.100\n",
      "  libavformat    58. 45.100 / 58. 45.100\n",
      "  libavdevice    58. 10.100 / 58. 10.100\n",
      "  libavfilter     7. 85.100 /  7. 85.100\n",
      "  libavresample   4.  0.  0 /  4.  0.  0\n",
      "  libswscale      5.  7.100 /  5.  7.100\n",
      "  libswresample   3.  7.100 /  3.  7.100\n",
      "Input #0, image2, from 'store/results/000007/tmp_frames/*.jpg':\n",
      "  Duration: 00:00:10.70, start: 0.000000, bitrate: N/A\n",
      "    Stream #0:0: Video: mjpeg (Baseline), yuvj420p(pc, bt470bg/unknown/unknown), 1280x1024 [SAR 1:1 DAR 5:4], 20 fps, 20 tbr, 20 tbn, 20 tbc\n",
      "Please use -b:a or -b:v, -b is ambiguous\n",
      "Stream mapping:\n",
      "  Stream #0:0 -> #0:0 (mjpeg (native) -> mpeg4 (native))\n",
      "Press [q] to stop, [?] for help\n",
      "[swscaler @ 0x55ca8777a400] deprecated pixel format used, make sure you did set range correctly\n",
      "Output #0, mp4, to 'store/results/000007/visuals.mp4':\n",
      "  Metadata:\n",
      "    encoder         : Lavf58.45.100\n",
      "    Stream #0:0: Video: mpeg4 (mp4v / 0x7634706D), yuv420p, 1280x1024 [SAR 1:1 DAR 5:4], q=2-31, 5000 kb/s, 20 fps, 10240 tbn, 20 tbc\n",
      "    Metadata:\n",
      "      encoder         : Lavc58.91.100 mpeg4\n",
      "    Side data:\n",
      "      cpb: bitrate max/min/avg: 0/0/5000000 buffer size: 0 vbv_delay: N/A\n",
      "frame=  214 fps= 94 q=2.7 Lsize=    6581kB time=00:00:10.65 bitrate=5062.3kbits/s speed=4.67x    \n",
      "video:6579kB audio:0kB subtitle:0kB other streams:0kB global headers:0kB muxing overhead: 0.028216%\n",
      "[NbConvertApp] Writing 2708219 bytes to result.html\n",
      "\n",
      "\n",
      "EXECUTING >> python main.py --input_video store/all_videos/000008.mp4 --output_dir store/results/000008\n"
     ]
    },
    {
     "name": "stderr",
     "output_type": "stream",
     "text": [
      " 53%|█████▎    | 9/17 [15:16<15:29, 116.23s/it]"
     ]
    },
    {
     "name": "stdout",
     "output_type": "stream",
     "text": [
      "[NbConvertApp] Converting notebook main.ipynb to html\n",
      "ffmpeg version 4.3 Copyright (c) 2000-2020 the FFmpeg developers\n",
      "  built with gcc 7.3.0 (crosstool-NG 1.23.0.449-a04d0)\n",
      "  configuration: --prefix=/home/tornikeo/miniconda3/envs/torch --cc=/opt/conda/conda-bld/ffmpeg_1597178665428/_build_env/bin/x86_64-conda_cos6-linux-gnu-cc --disable-doc --disable-openssl --enable-avresample --enable-gnutls --enable-hardcoded-tables --enable-libfreetype --enable-libopenh264 --enable-pic --enable-pthreads --enable-shared --disable-static --enable-version3 --enable-zlib --enable-libmp3lame\n",
      "  libavutil      56. 51.100 / 56. 51.100\n",
      "  libavcodec     58. 91.100 / 58. 91.100\n",
      "  libavformat    58. 45.100 / 58. 45.100\n",
      "  libavdevice    58. 10.100 / 58. 10.100\n",
      "  libavfilter     7. 85.100 /  7. 85.100\n",
      "  libavresample   4.  0.  0 /  4.  0.  0\n",
      "  libswscale      5.  7.100 /  5.  7.100\n",
      "  libswresample   3.  7.100 /  3.  7.100\n",
      "Input #0, image2, from 'store/results/000008/tmp_frames/*.jpg':\n",
      "  Duration: 00:00:11.35, start: 0.000000, bitrate: N/A\n",
      "    Stream #0:0: Video: mjpeg (Baseline), yuvj420p(pc, bt470bg/unknown/unknown), 1280x1024 [SAR 1:1 DAR 5:4], 20 fps, 20 tbr, 20 tbn, 20 tbc\n",
      "Please use -b:a or -b:v, -b is ambiguous\n",
      "Stream mapping:\n",
      "  Stream #0:0 -> #0:0 (mjpeg (native) -> mpeg4 (native))\n",
      "Press [q] to stop, [?] for help\n",
      "[swscaler @ 0x565183a34cc0] deprecated pixel format used, make sure you did set range correctly\n",
      "Output #0, mp4, to 'store/results/000008/visuals.mp4':\n",
      "  Metadata:\n",
      "    encoder         : Lavf58.45.100\n",
      "    Stream #0:0: Video: mpeg4 (mp4v / 0x7634706D), yuv420p, 1280x1024 [SAR 1:1 DAR 5:4], q=2-31, 5000 kb/s, 20 fps, 10240 tbn, 20 tbc\n",
      "    Metadata:\n",
      "      encoder         : Lavc58.91.100 mpeg4\n",
      "    Side data:\n",
      "      cpb: bitrate max/min/avg: 0/0/5000000 buffer size: 0 vbv_delay: N/A\n",
      "frame=  227 fps=109 q=4.0 Lsize=    6990kB time=00:00:11.30 bitrate=5067.5kbits/s speed=5.42x    \n",
      "video:6988kB audio:0kB subtitle:0kB other streams:0kB global headers:0kB muxing overhead: 0.027124%\n",
      "[NbConvertApp] Writing 2853059 bytes to result.html\n",
      "\n",
      "\n",
      "EXECUTING >> python main.py --input_video store/all_videos/000009.mp4 --output_dir store/results/000009\n"
     ]
    },
    {
     "name": "stderr",
     "output_type": "stream",
     "text": [
      " 59%|█████▉    | 10/17 [17:15<13:38, 116.96s/it]"
     ]
    },
    {
     "name": "stdout",
     "output_type": "stream",
     "text": [
      "[NbConvertApp] Converting notebook main.ipynb to html\n",
      "ffmpeg version 4.3 Copyright (c) 2000-2020 the FFmpeg developers\n",
      "  built with gcc 7.3.0 (crosstool-NG 1.23.0.449-a04d0)\n",
      "  configuration: --prefix=/home/tornikeo/miniconda3/envs/torch --cc=/opt/conda/conda-bld/ffmpeg_1597178665428/_build_env/bin/x86_64-conda_cos6-linux-gnu-cc --disable-doc --disable-openssl --enable-avresample --enable-gnutls --enable-hardcoded-tables --enable-libfreetype --enable-libopenh264 --enable-pic --enable-pthreads --enable-shared --disable-static --enable-version3 --enable-zlib --enable-libmp3lame\n",
      "  libavutil      56. 51.100 / 56. 51.100\n",
      "  libavcodec     58. 91.100 / 58. 91.100\n",
      "  libavformat    58. 45.100 / 58. 45.100\n",
      "  libavdevice    58. 10.100 / 58. 10.100\n",
      "  libavfilter     7. 85.100 /  7. 85.100\n",
      "  libavresample   4.  0.  0 /  4.  0.  0\n",
      "  libswscale      5.  7.100 /  5.  7.100\n",
      "  libswresample   3.  7.100 /  3.  7.100\n",
      "Input #0, image2, from 'store/results/000009/tmp_frames/*.jpg':\n",
      "  Duration: 00:00:12.05, start: 0.000000, bitrate: N/A\n",
      "    Stream #0:0: Video: mjpeg (Baseline), yuvj420p(pc, bt470bg/unknown/unknown), 1280x1024 [SAR 1:1 DAR 5:4], 20 fps, 20 tbr, 20 tbn, 20 tbc\n",
      "Please use -b:a or -b:v, -b is ambiguous\n",
      "Stream mapping:\n",
      "  Stream #0:0 -> #0:0 (mjpeg (native) -> mpeg4 (native))\n",
      "Press [q] to stop, [?] for help\n",
      "[swscaler @ 0x564dd033ba00] deprecated pixel format used, make sure you did set range correctly\n",
      "Output #0, mp4, to 'store/results/000009/visuals.mp4':\n",
      "  Metadata:\n",
      "    encoder         : Lavf58.45.100\n",
      "    Stream #0:0: Video: mpeg4 (mp4v / 0x7634706D), yuv420p, 1280x1024 [SAR 1:1 DAR 5:4], q=2-31, 5000 kb/s, 20 fps, 10240 tbn, 20 tbc\n",
      "    Metadata:\n",
      "      encoder         : Lavc58.91.100 mpeg4\n",
      "    Side data:\n",
      "      cpb: bitrate max/min/avg: 0/0/5000000 buffer size: 0 vbv_delay: N/A\n",
      "frame=  241 fps= 96 q=2.4 Lsize=    7410kB time=00:00:12.00 bitrate=5058.4kbits/s speed=4.79x    \n",
      "video:7408kB audio:0kB subtitle:0kB other streams:0kB global headers:0kB muxing overhead: 0.026484%\n",
      "[NbConvertApp] Writing 2818623 bytes to result.html\n",
      "\n",
      "\n",
      "EXECUTING >> python main.py --input_video store/all_videos/000010.mp4 --output_dir store/results/000010\n"
     ]
    },
    {
     "name": "stderr",
     "output_type": "stream",
     "text": [
      " 65%|██████▍   | 11/17 [19:35<12:23, 123.98s/it]"
     ]
    },
    {
     "name": "stdout",
     "output_type": "stream",
     "text": [
      "[NbConvertApp] Converting notebook main.ipynb to html\n",
      "ffmpeg version 4.3 Copyright (c) 2000-2020 the FFmpeg developers\n",
      "  built with gcc 7.3.0 (crosstool-NG 1.23.0.449-a04d0)\n",
      "  configuration: --prefix=/home/tornikeo/miniconda3/envs/torch --cc=/opt/conda/conda-bld/ffmpeg_1597178665428/_build_env/bin/x86_64-conda_cos6-linux-gnu-cc --disable-doc --disable-openssl --enable-avresample --enable-gnutls --enable-hardcoded-tables --enable-libfreetype --enable-libopenh264 --enable-pic --enable-pthreads --enable-shared --disable-static --enable-version3 --enable-zlib --enable-libmp3lame\n",
      "  libavutil      56. 51.100 / 56. 51.100\n",
      "  libavcodec     58. 91.100 / 58. 91.100\n",
      "  libavformat    58. 45.100 / 58. 45.100\n",
      "  libavdevice    58. 10.100 / 58. 10.100\n",
      "  libavfilter     7. 85.100 /  7. 85.100\n",
      "  libavresample   4.  0.  0 /  4.  0.  0\n",
      "  libswscale      5.  7.100 /  5.  7.100\n",
      "  libswresample   3.  7.100 /  3.  7.100\n",
      "Input #0, image2, from 'store/results/000010/tmp_frames/*.jpg':\n",
      "  Duration: 00:00:18.00, start: 0.000000, bitrate: N/A\n",
      "    Stream #0:0: Video: mjpeg (Baseline), yuvj420p(pc, bt470bg/unknown/unknown), 1280x1024 [SAR 1:1 DAR 5:4], 20 fps, 20 tbr, 20 tbn, 20 tbc\n",
      "Please use -b:a or -b:v, -b is ambiguous\n",
      "Stream mapping:\n",
      "  Stream #0:0 -> #0:0 (mjpeg (native) -> mpeg4 (native))\n",
      "Press [q] to stop, [?] for help\n",
      "[swscaler @ 0x5572ec187300] deprecated pixel format used, make sure you did set range correctly\n",
      "Output #0, mp4, to 'store/results/000010/visuals.mp4':\n",
      "  Metadata:\n",
      "    encoder         : Lavf58.45.100\n",
      "    Stream #0:0: Video: mpeg4 (mp4v / 0x7634706D), yuv420p, 1280x1024 [SAR 1:1 DAR 5:4], q=2-31, 5000 kb/s, 20 fps, 10240 tbn, 20 tbc\n",
      "    Metadata:\n",
      "      encoder         : Lavc58.91.100 mpeg4\n",
      "    Side data:\n",
      "      cpb: bitrate max/min/avg: 0/0/5000000 buffer size: 0 vbv_delay: N/A\n",
      "frame=  360 fps=125 q=2.9 Lsize=   11018kB time=00:00:17.95 bitrate=5028.3kbits/s speed=6.25x    \n",
      "video:11015kB audio:0kB subtitle:0kB other streams:0kB global headers:0kB muxing overhead: 0.022988%\n",
      "[NbConvertApp] Writing 2696139 bytes to result.html\n",
      "\n",
      "\n",
      "EXECUTING >> python main.py --input_video store/all_videos/000011.mp4 --output_dir store/results/000011\n"
     ]
    },
    {
     "name": "stderr",
     "output_type": "stream",
     "text": [
      " 71%|███████   | 12/17 [20:02<07:53, 94.68s/it] "
     ]
    },
    {
     "name": "stdout",
     "output_type": "stream",
     "text": [
      "[NbConvertApp] Converting notebook main.ipynb to html\n",
      "ffmpeg version 4.3 Copyright (c) 2000-2020 the FFmpeg developers\n",
      "  built with gcc 7.3.0 (crosstool-NG 1.23.0.449-a04d0)\n",
      "  configuration: --prefix=/home/tornikeo/miniconda3/envs/torch --cc=/opt/conda/conda-bld/ffmpeg_1597178665428/_build_env/bin/x86_64-conda_cos6-linux-gnu-cc --disable-doc --disable-openssl --enable-avresample --enable-gnutls --enable-hardcoded-tables --enable-libfreetype --enable-libopenh264 --enable-pic --enable-pthreads --enable-shared --disable-static --enable-version3 --enable-zlib --enable-libmp3lame\n",
      "  libavutil      56. 51.100 / 56. 51.100\n",
      "  libavcodec     58. 91.100 / 58. 91.100\n",
      "  libavformat    58. 45.100 / 58. 45.100\n",
      "  libavdevice    58. 10.100 / 58. 10.100\n",
      "  libavfilter     7. 85.100 /  7. 85.100\n",
      "  libavresample   4.  0.  0 /  4.  0.  0\n",
      "  libswscale      5.  7.100 /  5.  7.100\n",
      "  libswresample   3.  7.100 /  3.  7.100\n",
      "Input #0, image2, from 'store/results/000011/tmp_frames/*.jpg':\n",
      "  Duration: 00:00:08.90, start: 0.000000, bitrate: N/A\n",
      "    Stream #0:0: Video: mjpeg (Baseline), yuvj420p(pc, bt470bg/unknown/unknown), 1280x1024 [SAR 1:1 DAR 5:4], 20 fps, 20 tbr, 20 tbn, 20 tbc\n",
      "Please use -b:a or -b:v, -b is ambiguous\n",
      "Stream mapping:\n",
      "  Stream #0:0 -> #0:0 (mjpeg (native) -> mpeg4 (native))\n",
      "Press [q] to stop, [?] for help\n",
      "[swscaler @ 0x561da9d00540] deprecated pixel format used, make sure you did set range correctly\n",
      "Output #0, mp4, to 'store/results/000011/visuals.mp4':\n",
      "  Metadata:\n",
      "    encoder         : Lavf58.45.100\n",
      "    Stream #0:0: Video: mpeg4 (mp4v / 0x7634706D), yuv420p, 1280x1024 [SAR 1:1 DAR 5:4], q=2-31, 5000 kb/s, 20 fps, 10240 tbn, 20 tbc\n",
      "    Metadata:\n",
      "      encoder         : Lavc58.91.100 mpeg4\n",
      "    Side data:\n",
      "      cpb: bitrate max/min/avg: 0/0/5000000 buffer size: 0 vbv_delay: N/A\n",
      "frame=  178 fps=177 q=2.5 Lsize=    5507kB time=00:00:08.85 bitrate=5097.8kbits/s speed=8.82x    \n",
      "video:5506kB audio:0kB subtitle:0kB other streams:0kB global headers:0kB muxing overhead: 0.030171%\n",
      "[NbConvertApp] Writing 2111269 bytes to result.html\n",
      "\n",
      "\n",
      "EXECUTING >> python main.py --input_video store/all_videos/000012.mp4 --output_dir store/results/000012\n"
     ]
    },
    {
     "name": "stderr",
     "output_type": "stream",
     "text": [
      " 76%|███████▋  | 13/17 [20:39<05:09, 77.36s/it]"
     ]
    },
    {
     "name": "stdout",
     "output_type": "stream",
     "text": [
      "[NbConvertApp] Converting notebook main.ipynb to html\n",
      "ffmpeg version 4.3 Copyright (c) 2000-2020 the FFmpeg developers\n",
      "  built with gcc 7.3.0 (crosstool-NG 1.23.0.449-a04d0)\n",
      "  configuration: --prefix=/home/tornikeo/miniconda3/envs/torch --cc=/opt/conda/conda-bld/ffmpeg_1597178665428/_build_env/bin/x86_64-conda_cos6-linux-gnu-cc --disable-doc --disable-openssl --enable-avresample --enable-gnutls --enable-hardcoded-tables --enable-libfreetype --enable-libopenh264 --enable-pic --enable-pthreads --enable-shared --disable-static --enable-version3 --enable-zlib --enable-libmp3lame\n",
      "  libavutil      56. 51.100 / 56. 51.100\n",
      "  libavcodec     58. 91.100 / 58. 91.100\n",
      "  libavformat    58. 45.100 / 58. 45.100\n",
      "  libavdevice    58. 10.100 / 58. 10.100\n",
      "  libavfilter     7. 85.100 /  7. 85.100\n",
      "  libavresample   4.  0.  0 /  4.  0.  0\n",
      "  libswscale      5.  7.100 /  5.  7.100\n",
      "  libswresample   3.  7.100 /  3.  7.100\n",
      "Input #0, image2, from 'store/results/000012/tmp_frames/*.jpg':\n",
      "  Duration: 00:00:09.95, start: 0.000000, bitrate: N/A\n",
      "    Stream #0:0: Video: mjpeg (Baseline), yuvj420p(pc, bt470bg/unknown/unknown), 1280x1024 [SAR 1:1 DAR 5:4], 20 fps, 20 tbr, 20 tbn, 20 tbc\n",
      "Please use -b:a or -b:v, -b is ambiguous\n",
      "Stream mapping:\n",
      "  Stream #0:0 -> #0:0 (mjpeg (native) -> mpeg4 (native))\n",
      "Press [q] to stop, [?] for help\n",
      "[swscaler @ 0x56503b1af500] deprecated pixel format used, make sure you did set range correctly\n",
      "Output #0, mp4, to 'store/results/000012/visuals.mp4':\n",
      "  Metadata:\n",
      "    encoder         : Lavf58.45.100\n",
      "    Stream #0:0: Video: mpeg4 (mp4v / 0x7634706D), yuv420p, 1280x1024 [SAR 1:1 DAR 5:4], q=2-31, 5000 kb/s, 20 fps, 10240 tbn, 20 tbc\n",
      "    Metadata:\n",
      "      encoder         : Lavc58.91.100 mpeg4\n",
      "    Side data:\n",
      "      cpb: bitrate max/min/avg: 0/0/5000000 buffer size: 0 vbv_delay: N/A\n",
      "frame=  199 fps=179 q=2.4 Lsize=    6100kB time=00:00:09.90 bitrate=5047.6kbits/s speed=8.93x    \n",
      "video:6098kB audio:0kB subtitle:0kB other streams:0kB global headers:0kB muxing overhead: 0.029353%\n",
      "[NbConvertApp] Writing 2817871 bytes to result.html\n",
      "\n",
      "\n",
      "EXECUTING >> python main.py --input_video store/all_videos/000013.mp4 --output_dir store/results/000013\n"
     ]
    },
    {
     "name": "stderr",
     "output_type": "stream",
     "text": [
      " 82%|████████▏ | 14/17 [21:07<03:07, 62.47s/it]"
     ]
    },
    {
     "name": "stdout",
     "output_type": "stream",
     "text": [
      "[NbConvertApp] Converting notebook main.ipynb to html\n",
      "ffmpeg version 4.3 Copyright (c) 2000-2020 the FFmpeg developers\n",
      "  built with gcc 7.3.0 (crosstool-NG 1.23.0.449-a04d0)\n",
      "  configuration: --prefix=/home/tornikeo/miniconda3/envs/torch --cc=/opt/conda/conda-bld/ffmpeg_1597178665428/_build_env/bin/x86_64-conda_cos6-linux-gnu-cc --disable-doc --disable-openssl --enable-avresample --enable-gnutls --enable-hardcoded-tables --enable-libfreetype --enable-libopenh264 --enable-pic --enable-pthreads --enable-shared --disable-static --enable-version3 --enable-zlib --enable-libmp3lame\n",
      "  libavutil      56. 51.100 / 56. 51.100\n",
      "  libavcodec     58. 91.100 / 58. 91.100\n",
      "  libavformat    58. 45.100 / 58. 45.100\n",
      "  libavdevice    58. 10.100 / 58. 10.100\n",
      "  libavfilter     7. 85.100 /  7. 85.100\n",
      "  libavresample   4.  0.  0 /  4.  0.  0\n",
      "  libswscale      5.  7.100 /  5.  7.100\n",
      "  libswresample   3.  7.100 /  3.  7.100\n",
      "Input #0, image2, from 'store/results/000013/tmp_frames/*.jpg':\n",
      "  Duration: 00:00:06.80, start: 0.000000, bitrate: N/A\n",
      "    Stream #0:0: Video: mjpeg (Baseline), yuvj420p(pc, bt470bg/unknown/unknown), 1280x1024 [SAR 1:1 DAR 5:4], 20 fps, 20 tbr, 20 tbn, 20 tbc\n",
      "Please use -b:a or -b:v, -b is ambiguous\n",
      "Stream mapping:\n",
      "  Stream #0:0 -> #0:0 (mjpeg (native) -> mpeg4 (native))\n",
      "Press [q] to stop, [?] for help\n",
      "[swscaler @ 0x558f515ec640] deprecated pixel format used, make sure you did set range correctly\n",
      "Output #0, mp4, to 'store/results/000013/visuals.mp4':\n",
      "  Metadata:\n",
      "    encoder         : Lavf58.45.100\n",
      "    Stream #0:0: Video: mpeg4 (mp4v / 0x7634706D), yuv420p, 1280x1024 [SAR 1:1 DAR 5:4], q=2-31, 5000 kb/s, 20 fps, 10240 tbn, 20 tbc\n",
      "    Metadata:\n",
      "      encoder         : Lavc58.91.100 mpeg4\n",
      "    Side data:\n",
      "      cpb: bitrate max/min/avg: 0/0/5000000 buffer size: 0 vbv_delay: N/A\n",
      "frame=  136 fps=0.0 q=3.6 Lsize=    4231kB time=00:00:06.75 bitrate=5135.1kbits/s speed=9.02x    \n",
      "video:4230kB audio:0kB subtitle:0kB other streams:0kB global headers:0kB muxing overhead: 0.035302%\n",
      "[NbConvertApp] Writing 2478431 bytes to result.html\n",
      "\n",
      "\n",
      "EXECUTING >> python main.py --input_video store/all_videos/000014.mp4 --output_dir store/results/000014\n"
     ]
    },
    {
     "name": "stderr",
     "output_type": "stream",
     "text": [
      " 88%|████████▊ | 15/17 [21:50<01:53, 56.75s/it]"
     ]
    },
    {
     "name": "stdout",
     "output_type": "stream",
     "text": [
      "[NbConvertApp] Converting notebook main.ipynb to html\n",
      "ffmpeg version 4.3 Copyright (c) 2000-2020 the FFmpeg developers\n",
      "  built with gcc 7.3.0 (crosstool-NG 1.23.0.449-a04d0)\n",
      "  configuration: --prefix=/home/tornikeo/miniconda3/envs/torch --cc=/opt/conda/conda-bld/ffmpeg_1597178665428/_build_env/bin/x86_64-conda_cos6-linux-gnu-cc --disable-doc --disable-openssl --enable-avresample --enable-gnutls --enable-hardcoded-tables --enable-libfreetype --enable-libopenh264 --enable-pic --enable-pthreads --enable-shared --disable-static --enable-version3 --enable-zlib --enable-libmp3lame\n",
      "  libavutil      56. 51.100 / 56. 51.100\n",
      "  libavcodec     58. 91.100 / 58. 91.100\n",
      "  libavformat    58. 45.100 / 58. 45.100\n",
      "  libavdevice    58. 10.100 / 58. 10.100\n",
      "  libavfilter     7. 85.100 /  7. 85.100\n",
      "  libavresample   4.  0.  0 /  4.  0.  0\n",
      "  libswscale      5.  7.100 /  5.  7.100\n",
      "  libswresample   3.  7.100 /  3.  7.100\n",
      "Input #0, image2, from 'store/results/000014/tmp_frames/*.jpg':\n",
      "  Duration: 00:00:11.55, start: 0.000000, bitrate: N/A\n",
      "    Stream #0:0: Video: mjpeg (Baseline), yuvj420p(pc, bt470bg/unknown/unknown), 1280x1024 [SAR 1:1 DAR 5:4], 20 fps, 20 tbr, 20 tbn, 20 tbc\n",
      "Please use -b:a or -b:v, -b is ambiguous\n",
      "Stream mapping:\n",
      "  Stream #0:0 -> #0:0 (mjpeg (native) -> mpeg4 (native))\n",
      "Press [q] to stop, [?] for help\n",
      "[swscaler @ 0x565232f10540] deprecated pixel format used, make sure you did set range correctly\n",
      "Output #0, mp4, to 'store/results/000014/visuals.mp4':\n",
      "  Metadata:\n",
      "    encoder         : Lavf58.45.100\n",
      "    Stream #0:0: Video: mpeg4 (mp4v / 0x7634706D), yuv420p, 1280x1024 [SAR 1:1 DAR 5:4], q=2-31, 5000 kb/s, 20 fps, 10240 tbn, 20 tbc\n",
      "    Metadata:\n",
      "      encoder         : Lavc58.91.100 mpeg4\n",
      "    Side data:\n",
      "      cpb: bitrate max/min/avg: 0/0/5000000 buffer size: 0 vbv_delay: N/A\n",
      "frame=  231 fps=175 q=3.4 Lsize=    7112kB time=00:00:11.50 bitrate=5065.9kbits/s speed= 8.7x    \n",
      "video:7110kB audio:0kB subtitle:0kB other streams:0kB global headers:0kB muxing overhead: 0.027101%\n",
      "[NbConvertApp] Writing 2807406 bytes to result.html\n",
      "\n",
      "\n",
      "EXECUTING >> python main.py --input_video store/all_videos/000016.mp4 --output_dir store/results/000016\n"
     ]
    },
    {
     "name": "stderr",
     "output_type": "stream",
     "text": [
      "100%|██████████| 17/17 [22:12<00:00, 78.41s/it]"
     ]
    },
    {
     "name": "stdout",
     "output_type": "stream",
     "text": [
      "[NbConvertApp] Converting notebook main.ipynb to html\n",
      "ffmpeg version 4.3 Copyright (c) 2000-2020 the FFmpeg developers\n",
      "  built with gcc 7.3.0 (crosstool-NG 1.23.0.449-a04d0)\n",
      "  configuration: --prefix=/home/tornikeo/miniconda3/envs/torch --cc=/opt/conda/conda-bld/ffmpeg_1597178665428/_build_env/bin/x86_64-conda_cos6-linux-gnu-cc --disable-doc --disable-openssl --enable-avresample --enable-gnutls --enable-hardcoded-tables --enable-libfreetype --enable-libopenh264 --enable-pic --enable-pthreads --enable-shared --disable-static --enable-version3 --enable-zlib --enable-libmp3lame\n",
      "  libavutil      56. 51.100 / 56. 51.100\n",
      "  libavcodec     58. 91.100 / 58. 91.100\n",
      "  libavformat    58. 45.100 / 58. 45.100\n",
      "  libavdevice    58. 10.100 / 58. 10.100\n",
      "  libavfilter     7. 85.100 /  7. 85.100\n",
      "  libavresample   4.  0.  0 /  4.  0.  0\n",
      "  libswscale      5.  7.100 /  5.  7.100\n",
      "  libswresample   3.  7.100 /  3.  7.100\n",
      "Input #0, image2, from 'store/results/000016/tmp_frames/*.jpg':\n",
      "  Duration: 00:00:05.65, start: 0.000000, bitrate: N/A\n",
      "    Stream #0:0: Video: mjpeg (Baseline), yuvj420p(pc, bt470bg/unknown/unknown), 1280x1024 [SAR 1:1 DAR 5:4], 20 fps, 20 tbr, 20 tbn, 20 tbc\n",
      "Please use -b:a or -b:v, -b is ambiguous\n",
      "Stream mapping:\n",
      "  Stream #0:0 -> #0:0 (mjpeg (native) -> mpeg4 (native))\n",
      "Press [q] to stop, [?] for help\n",
      "[swscaler @ 0x55d5458c8ec0] deprecated pixel format used, make sure you did set range correctly\n",
      "Output #0, mp4, to 'store/results/000016/visuals.mp4':\n",
      "  Metadata:\n",
      "    encoder         : Lavf58.45.100\n",
      "    Stream #0:0: Video: mpeg4 (mp4v / 0x7634706D), yuv420p, 1280x1024 [SAR 1:1 DAR 5:4], q=2-31, 5000 kb/s, 20 fps, 10240 tbn, 20 tbc\n",
      "    Metadata:\n",
      "      encoder         : Lavc58.91.100 mpeg4\n",
      "    Side data:\n",
      "      cpb: bitrate max/min/avg: 0/0/5000000 buffer size: 0 vbv_delay: N/A\n",
      "frame=  113 fps=0.0 q=1.9 Lsize=    3499kB time=00:00:05.60 bitrate=5119.2kbits/s speed=8.88x    \n",
      "video:3498kB audio:0kB subtitle:0kB other streams:0kB global headers:0kB muxing overhead: 0.039558%\n",
      "[NbConvertApp] Writing 2254738 bytes to result.html\n",
      "\n",
      "\n"
     ]
    },
    {
     "name": "stderr",
     "output_type": "stream",
     "text": [
      "\n"
     ]
    }
   ],
   "source": [
    "long_videos = ['000002','000015']\n",
    "for video_input in tqdm(sorted(list(Path('store/all_videos/').glob('*')))):\n",
    "    if  video_input.stem not in long_videos: # Skip videos that are way too long\n",
    "        outdir = Path('store/results')/video_input.stem\n",
    "        !mkdir -p {outdir}\n",
    "        cmd = f'python main.py --input_video {video_input} --output_dir {outdir}'\n",
    "        print(f\"EXECUTING >> {cmd}\")\n",
    "        res = subprocess.run(cmd.split(), capture_output=True)\n",
    "        if len(res.stderr) > 0:\n",
    "            print(res.stderr.decode())\n",
    "        print(res.stdout.decode())"
   ]
  },
  {
   "cell_type": "code",
   "execution_count": null,
   "id": "be64e9d2-29dd-4aca-92d4-545f62dc69d0",
   "metadata": {
    "tags": []
   },
   "outputs": [],
   "source": [
    "for i,video_input in tqdm(enumerate(list(Path('store/videos_orig_res/').glob('*')))):\n",
    "    outpath = Path('store/all_videos')/f'{i:06d}.mp4'\n",
    "    outpath.parent.mkdir(parents=True, exist_ok=True)\n",
    "    !ffmpeg -i {video_input} -filter:v fps=30 -q:v 1 {outpath} -y\n",
    "    print(outpath)"
   ]
  }
 ],
 "metadata": {
  "kernelspec": {
   "display_name": "Python 3",
   "language": "python",
   "name": "python3"
  },
  "language_info": {
   "codemirror_mode": {
    "name": "ipython",
    "version": 3
   },
   "file_extension": ".py",
   "mimetype": "text/x-python",
   "name": "python",
   "nbconvert_exporter": "python",
   "pygments_lexer": "ipython3",
   "version": "3.8.15"
  }
 },
 "nbformat": 4,
 "nbformat_minor": 5
}
